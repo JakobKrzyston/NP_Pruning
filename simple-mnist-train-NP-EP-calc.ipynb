{
 "cells": [
  {
   "cell_type": "markdown",
   "id": "babcc288",
   "metadata": {},
   "source": [
    "#### Imports"
   ]
  },
  {
   "cell_type": "code",
   "execution_count": 1,
   "id": "2465766c",
   "metadata": {},
   "outputs": [
    {
     "name": "stderr",
     "output_type": "stream",
     "text": [
      "/home/jkrzyston6-gtri/.conda/envs/torch/lib/python3.9/site-packages/tqdm/auto.py:22: TqdmWarning: IProgress not found. Please update jupyter and ipywidgets. See https://ipywidgets.readthedocs.io/en/stable/user_install.html\n",
      "  from .autonotebook import tqdm as notebook_tqdm\n"
     ]
    }
   ],
   "source": [
    "import numpy as np\n",
    "import matplotlib.pyplot as plt\n",
    "\n",
    "import torch, os\n",
    "from torchvision import datasets, transforms\n",
    "from torch import optim, nn\n",
    "\n",
    "from tqdm import tqdm"
   ]
  },
  {
   "cell_type": "code",
   "execution_count": 2,
   "id": "395f1c69-b6be-4102-a1f7-4c3b058a59fc",
   "metadata": {},
   "outputs": [],
   "source": [
    "%load_ext autoreload\n",
    "%autoreload 2"
   ]
  },
  {
   "cell_type": "markdown",
   "id": "e4a02931",
   "metadata": {},
   "source": [
    "#### Load data and create loaders"
   ]
  },
  {
   "cell_type": "code",
   "execution_count": 3,
   "id": "5b963a82",
   "metadata": {},
   "outputs": [],
   "source": [
    "# Define a transform to normalize the data\n",
    "transform = transforms.Compose([transforms.ToTensor(),\n",
    "                              transforms.Normalize((0.5,), (0.5,)),\n",
    "                              ])\n",
    "# Download and load the training data\n",
    "trainset = datasets.MNIST('~/.pytorch/MNIST_data/', download=True, train=True, transform=transform)\n",
    "trainloader = torch.utils.data.DataLoader(trainset, batch_size=64, shuffle=True)"
   ]
  },
  {
   "cell_type": "code",
   "execution_count": 69,
   "id": "77820830-d290-45bb-ac3a-4114d76c8c6f",
   "metadata": {},
   "outputs": [],
   "source": [
    "# Specify Achitecture and trial\n",
    "arch = 'dense'\n",
    "trial = 4\n",
    "tag = 'simple_mnist_'+arch+'_trial_'+str(trial)\n",
    "sub_folders = ['Figures', 'Computed_Values', 'Weights']\n",
    "for i in range(len(sub_folders)):\n",
    "    path = os.path.join(os.getcwd(),tag+'/'+sub_folders[i])\n",
    "    os.makedirs(path, exist_ok = True)"
   ]
  },
  {
   "cell_type": "markdown",
   "id": "82a58bf0",
   "metadata": {},
   "source": [
    "#### Architecture"
   ]
  },
  {
   "cell_type": "code",
   "execution_count": 70,
   "id": "abf3c273",
   "metadata": {},
   "outputs": [
    {
     "data": {
      "text/plain": [
       "Network(\n",
       "  (fc1): Linear(in_features=784, out_features=100, bias=True)\n",
       "  (fc2): Linear(in_features=100, out_features=100, bias=True)\n",
       "  (fc3): Linear(in_features=100, out_features=100, bias=True)\n",
       "  (fc4): Linear(in_features=100, out_features=100, bias=True)\n",
       "  (fc5): Linear(in_features=100, out_features=100, bias=True)\n",
       "  (fc6): Linear(in_features=100, out_features=10, bias=True)\n",
       "  (relu): ReLU()\n",
       "  (logsoftmax): LogSoftmax(dim=1)\n",
       ")"
      ]
     },
     "execution_count": 70,
     "metadata": {},
     "output_type": "execute_result"
    }
   ],
   "source": [
    "if arch == 'dense':\n",
    "    class Network(nn.Module):\n",
    "        def __init__(self):\n",
    "            super().__init__()\n",
    "            # Defining the layers, 128, 64, 10 units each\n",
    "            self.fc1 = nn.Linear(784, 100)\n",
    "            self.fc2 = nn.Linear(100, 100)\n",
    "            self.fc3 = nn.Linear(100, 100)\n",
    "            self.fc4 = nn.Linear(100, 100)\n",
    "            self.fc5 = nn.Linear(100, 100)\n",
    "            # Output layer, 10 units - one for each digit\n",
    "            self.fc6 = nn.Linear(100, 10)\n",
    "\n",
    "            self.relu = nn.ReLU()\n",
    "            self.logsoftmax = nn.LogSoftmax(dim=1)\n",
    "\n",
    "        def forward(self, x):\n",
    "            ''' Forward pass through the network, returns the output logits '''\n",
    "            x = self.fc1(x)\n",
    "            x = self.relu(x)\n",
    "            x = self.fc2(x)\n",
    "            x = self.relu(x)\n",
    "            x = self.fc3(x)\n",
    "            x = self.relu(x)\n",
    "            x = self.fc4(x)\n",
    "            x = self.relu(x)\n",
    "            x = self.fc5(x)\n",
    "            x = self.relu(x)\n",
    "            x = self.fc6(x)\n",
    "            x = self.logsoftmax(x)\n",
    "\n",
    "            return x\n",
    "elif arch == 'conv':    \n",
    "    class Network(nn.Module):\n",
    "        def __init__(self):\n",
    "            super().__init__()\n",
    "            # Defining the layers, 128, 64, 10 units each\n",
    "            self.conv1 = nn.Conv2d(1, 32, kernel_size = 3, padding = 3//2)\n",
    "            self.conv2 = nn.Conv2d(32, 32, kernel_size = 3, padding = 3//2)\n",
    "            self.linear = nn.Linear(32*28*28*1, 10)\n",
    "\n",
    "            self.relu = nn.ReLU()\n",
    "            self.logsoftmax = nn.LogSoftmax(dim=1)\n",
    "\n",
    "        def forward(self, x):\n",
    "            ''' Forward pass through the network, returns the output logits '''\n",
    "            x = self.conv1(x)\n",
    "            x = self.relu(x)\n",
    "            x = self.conv2(x)\n",
    "            x = self.relu(x)\n",
    "            x = x.view(x.shape[0], -1)\n",
    "            x = self.linear(x)\n",
    "            x = self.logsoftmax(x)\n",
    "\n",
    "            return x\n",
    "\n",
    "model = Network()\n",
    "model"
   ]
  },
  {
   "cell_type": "code",
   "execution_count": 71,
   "id": "0407f598-a901-43df-a499-521b1e5964d3",
   "metadata": {},
   "outputs": [
    {
     "name": "stdout",
     "output_type": "stream",
     "text": [
      "CUDA is available\n"
     ]
    }
   ],
   "source": [
    "if torch.cuda.is_available():\n",
    "    print('CUDA is available')\n",
    "    use_cuda = torch.cuda.is_available()\n",
    "else:\n",
    "    print('CUDA is not available')\n",
    "    use_cuda = 0\n",
    "device = torch.device(\"cuda:0\" if use_cuda else \"cpu\")"
   ]
  },
  {
   "cell_type": "code",
   "execution_count": 72,
   "id": "7a71f2c9",
   "metadata": {},
   "outputs": [],
   "source": [
    "criterion = nn.NLLLoss()\n",
    "optimizer = optim.SGD(model.parameters(), lr=0.01)"
   ]
  },
  {
   "cell_type": "code",
   "execution_count": 73,
   "id": "a1d192fa-e2c1-4fc3-ac08-33c9d5533b86",
   "metadata": {},
   "outputs": [
    {
     "data": {
      "text/plain": [
       "NLLLoss()"
      ]
     },
     "execution_count": 73,
     "metadata": {},
     "output_type": "execute_result"
    }
   ],
   "source": [
    "model.to(device)\n",
    "criterion.to(device)"
   ]
  },
  {
   "cell_type": "code",
   "execution_count": 74,
   "id": "49d996da",
   "metadata": {},
   "outputs": [],
   "source": [
    "epochs = 20"
   ]
  },
  {
   "cell_type": "code",
   "execution_count": null,
   "id": "f4289be8",
   "metadata": {
    "tags": []
   },
   "outputs": [],
   "source": [
    "for e in range(epochs):\n",
    "    running_loss = 0\n",
    "    for images, labels in trainloader:\n",
    "        # Flatten MNIST images into a 784 long vector\n",
    "        if arch =='dense':\n",
    "            images = images.view(images.shape[0], -1)\n",
    "\n",
    "        # TODO: Training pass\n",
    "        optimizer.zero_grad()\n",
    "        \n",
    "        output = model(images.to(device))\n",
    "        loss = criterion(output, labels.to(device))\n",
    "        loss.backward()\n",
    "        optimizer.step()\n",
    "        \n",
    "        running_loss += loss.item()\n",
    "    else:\n",
    "        print(f\"Training loss: {running_loss/len(trainloader)}\")\n",
    "        torch.save(model.state_dict(),tag+'/Weights/ep_'+str(e+1)+'.pt')"
   ]
  },
  {
   "cell_type": "markdown",
   "id": "1c19a473",
   "metadata": {},
   "source": [
    "#### Load weights and compute NP, EP (layer-wise)"
   ]
  },
  {
   "cell_type": "code",
   "execution_count": 75,
   "id": "61ebe328",
   "metadata": {},
   "outputs": [
    {
     "name": "stderr",
     "output_type": "stream",
     "text": [
      "100%|██████████| 20/20 [00:47<00:00,  2.38s/it]\n"
     ]
    }
   ],
   "source": [
    "from fc_layer_neural_persistence import layer_neural_persistence\n",
    "\n",
    "m_inter = Network()\n",
    "m_inter.cpu\n",
    "\n",
    "if arch == 'conv':\n",
    "    nLayers = 3\n",
    "elif arch =='dense':\n",
    "    nLayers = 6\n",
    "    \n",
    "nBins = 10\n",
    "\n",
    "# EPs = np.zeros((epochs,nLayers))\n",
    "NPs = np.zeros((epochs,nLayers))\n",
    "edge_vals = {}\n",
    "edge_temp = {}\n",
    "\n",
    "\n",
    "if arch == 'conv':\n",
    "    w1_hist = np.zeros((epochs,nBins))\n",
    "    w2_hist = np.zeros((epochs,nBins))\n",
    "    w3_hist = np.zeros((epochs,nBins))\n",
    "\n",
    "elif arch =='dense':\n",
    "    w1_hist = np.zeros((epochs,nBins))\n",
    "    w2_hist = np.zeros((epochs,nBins))\n",
    "    w3_hist = np.zeros((epochs,nBins))\n",
    "    w4_hist = np.zeros((epochs,nBins))\n",
    "    w5_hist = np.zeros((epochs,nBins))\n",
    "    w6_hist = np.zeros((epochs,nBins))\n",
    "\n",
    "for ii in tqdm(range(epochs)):\n",
    "    \n",
    "    m_inter = torch.load(tag+'/Weights/ep_'+str(ii+1)+'.pt')\n",
    "    \n",
    "    if arch == 'conv':\n",
    "        w1 = m_inter['conv1.weight'].cpu().numpy()\n",
    "        w2 = m_inter['conv2.weight'].cpu().numpy()\n",
    "        w3 = m_inter['linear.weight'].cpu().numpy().T\n",
    "        \n",
    "        NPs[ii,0], _ = layer_neural_persistence(w1,'NP',None,True, in_out_sizes = ((30,30),(28,28)))\n",
    "        NPs[ii,1], _ = layer_neural_persistence(w2,'NP',None,True, in_out_sizes = ((30,30),(28,28)))\n",
    "        NPs[ii,2], _ = layer_neural_persistence(w3,'NP',None,True)\n",
    "        \n",
    "        w1_hist[ii], w1_bin_edges = np.histogram(w1, bins=nBins, density=True)\n",
    "        w2_hist[ii], w2_bin_edges = np.histogram(w2, bins=nBins, density=True)\n",
    "        w3_hist[ii], w3_bin_edges = np.histogram(w3, bins=nBins, density=True)\n",
    "        \n",
    "    elif arch == 'dense':\n",
    "                \n",
    "        w1 = m_inter['fc1.weight'].cpu().numpy().T\n",
    "        w2 = m_inter['fc2.weight'].cpu().numpy().T\n",
    "        w3 = m_inter['fc3.weight'].cpu().numpy().T\n",
    "        w4 = m_inter['fc4.weight'].cpu().numpy().T\n",
    "        w5 = m_inter['fc5.weight'].cpu().numpy().T\n",
    "        w6 = m_inter['fc6.weight'].cpu().numpy().T\n",
    "        \n",
    "        NPs[ii,0], edge_temp[('Dense 1', ii)]  = layer_neural_persistence(w1,None,True)\n",
    "        NPs[ii,1], edge_temp[('Dense 2', ii)]  = layer_neural_persistence(w2,None,True)\n",
    "        NPs[ii,2], edge_temp[('Dense 3', ii)]  = layer_neural_persistence(w3,None,True)\n",
    "        NPs[ii,3], edge_temp[('Dense 4', ii)]  = layer_neural_persistence(w4,None,True)\n",
    "        NPs[ii,4], edge_temp[('Dense 5', ii)]  = layer_neural_persistence(w5,None,True)\n",
    "        NPs[ii,5], edge_temp[('Dense 6', ii)]  = layer_neural_persistence(w6,None,True)\n",
    "        \n",
    "        edge_vals[(ii,0)] = np.zeros((len(edge_temp[('Dense 1',ii)]),3),dtype=float)\n",
    "        edge_vals[(ii,1)] = np.zeros((len(edge_temp[('Dense 2',ii)]),3),dtype=float)\n",
    "        edge_vals[(ii,2)] = np.zeros((len(edge_temp[('Dense 3',ii)]),3),dtype=float)\n",
    "        edge_vals[(ii,3)] = np.zeros((len(edge_temp[('Dense 4',ii)]),3),dtype=float)\n",
    "        edge_vals[(ii,4)] = np.zeros((len(edge_temp[('Dense 5',ii)]),3),dtype=float)\n",
    "        edge_vals[(ii,5)] = np.zeros((len(edge_temp[('Dense 6',ii)]),3),dtype=float)\n",
    "        \n",
    "        for cntr0 in range(len(edge_temp[('Dense 1',ii)])):\n",
    "            m0 = edge_temp[('Dense 1',ii)][-1][0] + 1\n",
    "            edge_vals[(ii,0)][cntr0,0] = edge_temp[('Dense 1',ii)][cntr0][0]\n",
    "            edge_vals[(ii,0)][cntr0,1] = edge_temp[('Dense 1',ii)][cntr0][1] - m0\n",
    "            edge_vals[(ii,0)][cntr0,2] = edge_temp[('Dense 1',ii)][cntr0][2][\"weight\"]\n",
    "            \n",
    "        for cntr1 in range(len(edge_temp[('Dense 2',ii)])):\n",
    "            m1 = edge_temp[('Dense 2',ii)][-1][0] + 1\n",
    "            edge_vals[(ii,1)][cntr1,0] = edge_temp[('Dense 2',ii)][cntr1][0]\n",
    "            edge_vals[(ii,1)][cntr1,1] = edge_temp[('Dense 2',ii)][cntr1][1] - m1\n",
    "            edge_vals[(ii,1)][cntr1,2] = edge_temp[('Dense 2',ii)][cntr1][2][\"weight\"]\n",
    "            \n",
    "        for cntr2 in range(len(edge_temp[('Dense 3',ii)])):\n",
    "            m2 = edge_temp[('Dense 3',ii)][-1][0] + 1\n",
    "            edge_vals[(ii,2)][cntr2,0] = edge_temp[('Dense 3',ii)][cntr2][0]\n",
    "            edge_vals[(ii,2)][cntr2,1] = edge_temp[('Dense 3',ii)][cntr2][1] - m2\n",
    "            edge_vals[(ii,2)][cntr2,2] = edge_temp[('Dense 3',ii)][cntr2][2][\"weight\"]\n",
    "            \n",
    "        for cntr3 in range(len(edge_temp[('Dense 4',ii)])):\n",
    "            m3 = edge_temp[('Dense 4',ii)][-1][0] + 1\n",
    "            edge_vals[(ii,3)][cntr3,0] = edge_temp[('Dense 4',ii)][cntr3][0]\n",
    "            edge_vals[(ii,3)][cntr3,1] = edge_temp[('Dense 4',ii)][cntr3][1] - m3\n",
    "            edge_vals[(ii,3)][cntr3,2] = edge_temp[('Dense 4',ii)][cntr3][2][\"weight\"]\n",
    "            \n",
    "        for cntr4 in range(len(edge_temp[('Dense 5',ii)])):\n",
    "            m4 = edge_temp[('Dense 5',ii)][-1][0] + 1\n",
    "            edge_vals[(ii,4)][cntr4,0] = edge_temp[('Dense 5',ii)][cntr4][0]\n",
    "            edge_vals[(ii,4)][cntr4,1] = edge_temp[('Dense 5',ii)][cntr4][1] - m4\n",
    "            edge_vals[(ii,4)][cntr4,2] = edge_temp[('Dense 5',ii)][cntr4][2][\"weight\"]\n",
    "            \n",
    "        for cntr5 in range(len(edge_temp[('Dense 6',ii)])):\n",
    "            m5 = edge_temp[('Dense 6',ii)][-1][0] + 1\n",
    "            edge_vals[(ii,5)][cntr5,0] = edge_temp[('Dense 6',ii)][cntr5][0]\n",
    "            edge_vals[(ii,5)][cntr5,1] = edge_temp[('Dense 6',ii)][cntr5][1] - m5\n",
    "            edge_vals[(ii,5)][cntr5,2] = edge_temp[('Dense 6',ii)][cntr5][2][\"weight\"]\n",
    "            \n",
    "        edge_vals[ii,0] = np.flipud(edge_vals[ii,0][np.argsort(edge_vals[ii,0][:, -1])])\n",
    "        edge_vals[ii,1] = np.flipud(edge_vals[ii,1][np.argsort(edge_vals[ii,1][:, -1])])\n",
    "        edge_vals[ii,2] = np.flipud(edge_vals[ii,2][np.argsort(edge_vals[ii,2][:, -1])])\n",
    "        edge_vals[ii,3] = np.flipud(edge_vals[ii,3][np.argsort(edge_vals[ii,3][:, -1])])\n",
    "        edge_vals[ii,4] = np.flipud(edge_vals[ii,4][np.argsort(edge_vals[ii,4][:, -1])])\n",
    "        edge_vals[ii,5] = np.flipud(edge_vals[ii,5][np.argsort(edge_vals[ii,5][:, -1])])\n",
    "        \n",
    "#         w1_hist[ii], w1_bin_edges = np.histogram(w1, bins=nBins, density=True)\n",
    "#         w2_hist[ii], w2_bin_edges = np.histogram(w2, bins=nBins, density=True)\n",
    "#         w3_hist[ii], w3_bin_edges = np.histogram(w3, bins=nBins, density=True)\n",
    "#         w4_hist[ii], w4_bin_edges = np.histogram(w4, bins=nBins, density=True)\n",
    "#         w5_hist[ii], w5_bin_edges = np.histogram(w5, bins=nBins, density=True)\n",
    "#         w6_hist[ii], w6_bin_edges = np.histogram(w6, bins=nBins, density=True)\n",
    "    \n",
    "    # EPs[ii,0], _ = layer_neural_persistence(w1,'EP',True)\n",
    "    # EPs[ii,1], _ = layer_neural_persistence(w2,'EP',True)\n",
    "    # EPs[ii,2], _ = layer_neural_persistence(w3,'EP',True)\n",
    "\n",
    "np.save(tag+'/Computed_Values/NPs', NPs)\n",
    "np.save(tag+'/Computed_Values/edge_vals', edge_vals)"
   ]
  },
  {
   "cell_type": "code",
   "execution_count": 39,
   "id": "e68c3117-ba5d-4970-b812-8216712a59c1",
   "metadata": {},
   "outputs": [],
   "source": [
    "# np.sort(edge_vals[(10,1)],axis=-1)"
   ]
  },
  {
   "cell_type": "code",
   "execution_count": 41,
   "id": "80586622-7896-4a45-ae60-afe727d01cf2",
   "metadata": {},
   "outputs": [],
   "source": [
    "# edge_vals[0,0] = edge_vals[0,0][np.argsort(edge_vals[0,0][:, -1])]"
   ]
  },
  {
   "cell_type": "code",
   "execution_count": 47,
   "id": "d7227349-a38d-4442-bec6-c3c42a414781",
   "metadata": {},
   "outputs": [
    {
     "ename": "KeyError",
     "evalue": "(-1, -1)",
     "output_type": "error",
     "traceback": [
      "\u001b[0;31m---------------------------------------------------------------------------\u001b[0m",
      "\u001b[0;31mKeyError\u001b[0m                                  Traceback (most recent call last)",
      "Input \u001b[0;32mIn [47]\u001b[0m, in \u001b[0;36m<cell line: 1>\u001b[0;34m()\u001b[0m\n\u001b[0;32m----> 1\u001b[0m (\u001b[43medge_vals\u001b[49m\u001b[43m[\u001b[49m\u001b[38;5;241;43m-\u001b[39;49m\u001b[38;5;241;43m1\u001b[39;49m\u001b[43m,\u001b[49m\u001b[38;5;241;43m-\u001b[39;49m\u001b[38;5;241;43m1\u001b[39;49m\u001b[43m]\u001b[49m)\n",
      "\u001b[0;31mKeyError\u001b[0m: (-1, -1)"
     ]
    }
   ],
   "source": [
    "(edge_vals[1,1])"
   ]
  },
  {
   "cell_type": "code",
   "execution_count": null,
   "id": "61397a82-6047-47d8-978f-790730de1047",
   "metadata": {},
   "outputs": [],
   "source": [
    "# one shot mag prune to compression ratio fo dense network\n",
    "# get accuracy\n",
    "# apply mask on weights wrt NP pruning"
   ]
  },
  {
   "cell_type": "code",
   "execution_count": null,
   "id": "64f9a91b-a38d-4647-a94a-611eebb3513e",
   "metadata": {},
   "outputs": [],
   "source": []
  },
  {
   "cell_type": "markdown",
   "id": "ffda27e5-54b3-4fd7-86f6-753d02182107",
   "metadata": {},
   "source": [
    "## Compute averages and std dev's for the NPs"
   ]
  },
  {
   "cell_type": "code",
   "execution_count": 10,
   "id": "2711ea65-cefd-4e7a-a823-dd9ee00b7aa4",
   "metadata": {},
   "outputs": [],
   "source": [
    "arch = 'dense'"
   ]
  },
  {
   "cell_type": "code",
   "execution_count": 11,
   "id": "4e8066a8-4dd1-4c95-9f65-b63f15835786",
   "metadata": {},
   "outputs": [],
   "source": [
    "# load all data\n",
    "NP1 = np.load('simple_mnist_'+arch+'_trial_0/Computed_Values/NPs.npy')\n",
    "NP2 = np.load('simple_mnist_'+arch+'_trial_1/Computed_Values/NPs.npy')\n",
    "NP3 = np.load('simple_mnist_'+arch+'_trial_2/Computed_Values/NPs.npy')\n",
    "NP4 = np.load('simple_mnist_'+arch+'_trial_3/Computed_Values/NPs.npy')\n",
    "NP5 = np.load('simple_mnist_'+arch+'_trial_4/Computed_Values/NPs.npy')"
   ]
  },
  {
   "cell_type": "code",
   "execution_count": null,
   "id": "143cb635-afb7-4941-98e3-77df1cc6c4cb",
   "metadata": {},
   "outputs": [],
   "source": [
    "if arch == 'dense':\n",
    "    nLayers = 6\n",
    "elif arch == 'conv':\n",
    "    nLayers = 4\n",
    "\n",
    "layer_mu  = []\n",
    "layer_std = []\n",
    "all_NP    = np.zeros((5,20,nLayers))\n",
    "for n in range(nLayers):\n",
    "    layer_mu.append(np.mean((NP1[:,n],NP2[:,n],NP3[:,n],NP4[:,n],NP5[:,n]), axis = 0))\n",
    "    layer_std.append(np.std((NP1[:,n],NP2[:,n],NP3[:,n],NP4[:,n],NP5[:,n]), axis = 0))\n",
    "    \n",
    "all_NP[0] = NP1\n",
    "all_NP[1] = NP2\n",
    "all_NP[2] = NP3\n",
    "all_NP[3] = NP4\n",
    "all_NP[4] = NP5"
   ]
  },
  {
   "cell_type": "code",
   "execution_count": null,
   "id": "9027cbbc-fd95-468c-9533-49fe8a2c6e95",
   "metadata": {},
   "outputs": [],
   "source": [
    "import itertools\n",
    "marker = itertools.cycle((',', '+', '.', 'o', '*', '^')) "
   ]
  },
  {
   "cell_type": "code",
   "execution_count": null,
   "id": "16215c3e",
   "metadata": {},
   "outputs": [],
   "source": [
    "# Plot!\n",
    "\n",
    "if arch == 'dense':\n",
    "    plot_labels = ['Layer ', 'Layer ', 'Layer ', 'Layer ', 'Layer ', 'Layer ']\n",
    "    \n",
    "else:\n",
    "    plot_labels = []\n",
    "    for idx in range(nLayers-1):\n",
    "        plot_labels.append('Filter ')\n",
    "    plot_labels.append('Dense ')\n",
    "\n",
    "plt.figure(figsize=(12,6))\n",
    "\n",
    "plt.subplot(1,2,1)\n",
    "for n in range(nLayers):\n",
    "    plt.plot(layer_mu[n], label=plot_labels[n]+str(n+1), marker = next(marker))\n",
    "    plt.fill_between(np.arange(0,20), layer_mu[n]+layer_std[n], layer_mu[n]-layer_std[n],\n",
    "    alpha=0.2, antialiased=True)\n",
    "\n",
    "plt.legend()\n",
    "plt.xticks([0,5,10,15,20])\n",
    "plt.xlabel('Training Epochs')\n",
    "plt.ylabel('Normalized Neural Persistence')\n",
    "\n",
    "plt.subplot(1,2,2)\n",
    "for n in range(5):\n",
    "    plt.plot(np.sum(all_NP, axis = 2)[n], label='Trial '+str(n+1), marker = next(marker))\n",
    "    plt.fill_between(np.arange(0,20), np.sum(all_NP, axis = 2)[n]+ np.std(all_NP, axis = 2)[n], np.sum(all_NP, axis = 2)[n]- np.std(all_NP, axis = 2)[n],\n",
    "    alpha=0.2, antialiased=True)\n",
    "\n",
    "plt.xticks([0,5,10,15,20])\n",
    "plt.legend()\n",
    "plt.xlabel('Training Epochs')\n",
    "plt.ylabel('Total Normalized Neural Persistence')\n",
    "\n",
    "plt.savefig('NP_Plots_'+arch, transparent = True, bbox_inches = 'tight', pad_inches = 0.01)"
   ]
  },
  {
   "cell_type": "code",
   "execution_count": null,
   "id": "04f0e2ab",
   "metadata": {},
   "outputs": [],
   "source": []
  },
  {
   "cell_type": "code",
   "execution_count": null,
   "id": "36dfa31b",
   "metadata": {},
   "outputs": [],
   "source": []
  },
  {
   "cell_type": "code",
   "execution_count": null,
   "id": "331e137c",
   "metadata": {},
   "outputs": [],
   "source": []
  },
  {
   "cell_type": "code",
   "execution_count": null,
   "id": "a9c9820a",
   "metadata": {},
   "outputs": [],
   "source": [
    "ff1 = plt.figure(figsize=(10,8))\n",
    "\n",
    "plt.subplot(221)\n",
    "plt.plot(EPs[:,0],label='EP - L1')\n",
    "plt.legend()\n",
    "\n",
    "plt.subplot(222)\n",
    "plt.plot(EPs[:,1],label='EP - L2')\n",
    "plt.legend()\n",
    "\n",
    "plt.subplot(223)\n",
    "plt.plot(EPs[:,2],label='EP - L3')\n",
    "plt.legend()\n",
    "\n",
    "plt.subplot(224)\n",
    "plt.plot(np.sum(EPs,axis=-1),label='EP - sum')\n",
    "plt.legend()\n",
    "\n",
    "plt.show()"
   ]
  },
  {
   "cell_type": "code",
   "execution_count": null,
   "id": "315242d8",
   "metadata": {},
   "outputs": [],
   "source": []
  }
 ],
 "metadata": {
  "kernelspec": {
   "display_name": "Python 3",
   "language": "python",
   "name": "python3"
  },
  "language_info": {
   "codemirror_mode": {
    "name": "ipython",
    "version": 3
   },
   "file_extension": ".py",
   "mimetype": "text/x-python",
   "name": "python",
   "nbconvert_exporter": "python",
   "pygments_lexer": "ipython3",
   "version": "3.9.12"
  }
 },
 "nbformat": 4,
 "nbformat_minor": 5
}
